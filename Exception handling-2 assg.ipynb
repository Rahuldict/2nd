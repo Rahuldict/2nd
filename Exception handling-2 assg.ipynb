{
 "cells": [
  {
   "cell_type": "code",
   "execution_count": 12,
   "id": "6b0125ea-086e-412e-a8bd-b3d3fe4436ac",
   "metadata": {},
   "outputs": [],
   "source": [
    "#Q1. Explain why we have to use the Exception class while creating a Custom Exception."
   ]
  },
  {
   "cell_type": "code",
   "execution_count": 15,
   "id": "0bad641f-02a3-4037-9d27-f3ae2e7b57ab",
   "metadata": {},
   "outputs": [],
   "source": [
    "import sys"
   ]
  },
  {
   "cell_type": "code",
   "execution_count": 16,
   "id": "d5dce625-b2d1-4f4c-8559-e1723dc23ebe",
   "metadata": {},
   "outputs": [],
   "source": [
    "# define a function to print the exception hierarchy\n",
    "def print_exception_hierarchy(exceptions, level=0):\n",
    "    # iterate through the exceptions\n",
    "    for name, obj in exceptions:\n",
    "        # indent according to the level\n",
    "        indent = \" \" * 4 * level\n",
    "        # print the name of the exception\n",
    "        print(indent + name)"
   ]
  },
  {
   "cell_type": "code",
   "execution_count": 17,
   "id": "3306ca42-5416-41a5-a14d-802f51f7d225",
   "metadata": {},
   "outputs": [],
   "source": [
    "#Q3. What errors are defined in the ArithmeticError class? Explain any two with an example."
   ]
  },
  {
   "cell_type": "code",
   "execution_count": 18,
   "id": "bb9117a5-e936-4f9a-a1be-d8b274d36175",
   "metadata": {},
   "outputs": [
    {
     "name": "stdout",
     "output_type": "stream",
     "text": [
      "Arithmetic error: division by zero\n"
     ]
    }
   ],
   "source": [
    "\n",
    "try:\n",
    "    result = 10 / 0 # division by zero error\n",
    "\n",
    "except ArithmeticError as e:\n",
    "    print(\"Arithmetic error:\", e)\n"
   ]
  },
  {
   "cell_type": "code",
   "execution_count": 19,
   "id": "0babfa12-b584-4e91-bb58-b7983559a2d7",
   "metadata": {},
   "outputs": [
    {
     "name": "stdout",
     "output_type": "stream",
     "text": [
      "Arithmetic error: math range error\n"
     ]
    }
   ],
   "source": [
    "\n",
    "import math\n",
    "\n",
    "try:\n",
    "    result = math.exp(1000) # overflow error\n",
    "\n",
    "except ArithmeticError as e:\n",
    "    print(\"Arithmetic error:\", e)\n",
    "\n"
   ]
  },
  {
   "cell_type": "code",
   "execution_count": 25,
   "id": "cd26e67a-78fb-4c94-b908-0be336d8a44b",
   "metadata": {},
   "outputs": [],
   "source": [
    "#Q4. Why LookupError class is used? Explain with an example KeyError and IndexError."
   ]
  },
  {
   "cell_type": "code",
   "execution_count": 26,
   "id": "3a963231-a2e9-4e38-97bb-66a8934301bc",
   "metadata": {},
   "outputs": [
    {
     "name": "stdout",
     "output_type": "stream",
     "text": [
      "Lookup error: list index out of range\n"
     ]
    }
   ],
   "source": [
    "\n",
    "my_list = [1, 2, 3]\n",
    "\n",
    "try:\n",
    "    item = my_list[3] # index out of range error\n",
    "\n",
    "except LookupError as e:\n",
    "    print(\"Lookup error:\", e)\n",
    "\n",
    "\n"
   ]
  },
  {
   "cell_type": "code",
   "execution_count": 27,
   "id": "13a42104-7833-4f60-a89a-8ba4158082a2",
   "metadata": {},
   "outputs": [
    {
     "name": "stdout",
     "output_type": "stream",
     "text": [
      "Lookup error: 'gender'\n"
     ]
    }
   ],
   "source": [
    "\n",
    "my_dict = {\"name\": \"Alice\", \"age\": 25}\n",
    "\n",
    "try:\n",
    "    value = my_dict[\"gender\"] # key not found error\n",
    "\n",
    "except LookupError as e:\n",
    "    print(\"Lookup error:\", e)\n",
    "\n",
    "\n",
    "\n"
   ]
  },
  {
   "cell_type": "code",
   "execution_count": 28,
   "id": "6c651b0e-bb4f-419d-8cfb-367d1d30803c",
   "metadata": {},
   "outputs": [],
   "source": [
    "#Q5. Explain ImportError. What is ModuleNotFoundError?"
   ]
  },
  {
   "cell_type": "code",
   "execution_count": 29,
   "id": "9ed6736a-67fe-49b9-bff0-568befc9a3dc",
   "metadata": {},
   "outputs": [
    {
     "name": "stdout",
     "output_type": "stream",
     "text": [
      "Import error: No module named 'foo'\n"
     ]
    }
   ],
   "source": [
    "\n",
    "try:\n",
    "    import foo # module does not exist\n",
    "\n",
    "except ImportError as e:\n",
    "    print(\"Import error:\", e)\n",
    "\n",
    "\n",
    "\n"
   ]
  },
  {
   "cell_type": "code",
   "execution_count": 31,
   "id": "13d73791-f5ff-400c-81e5-a7c2de98abcd",
   "metadata": {},
   "outputs": [
    {
     "ename": "ImportError",
     "evalue": "cannot import name 'bar' from 'math' (/opt/conda/lib/python3.10/lib-dynload/math.cpython-310-x86_64-linux-gnu.so)",
     "output_type": "error",
     "traceback": [
      "\u001b[0;31m---------------------------------------------------------------------------\u001b[0m",
      "\u001b[0;31mImportError\u001b[0m                               Traceback (most recent call last)",
      "Cell \u001b[0;32mIn[31], line 2\u001b[0m\n\u001b[1;32m      1\u001b[0m \u001b[38;5;28;01mtry\u001b[39;00m:\n\u001b[0;32m----> 2\u001b[0m     \u001b[38;5;28;01mfrom\u001b[39;00m \u001b[38;5;21;01mmath\u001b[39;00m \u001b[38;5;28;01mimport\u001b[39;00m bar \u001b[38;5;66;03m# component does not exist\u001b[39;00m\n\u001b[1;32m      4\u001b[0m \u001b[38;5;28;01mexcept\u001b[39;00m \u001b[38;5;167;01mModuleNotFoundError\u001b[39;00m \u001b[38;5;28;01mas\u001b[39;00m e:\n\u001b[1;32m      5\u001b[0m     \u001b[38;5;28mprint\u001b[39m(\u001b[38;5;124m\"\u001b[39m\u001b[38;5;124mModule not found error:\u001b[39m\u001b[38;5;124m\"\u001b[39m, e)\n",
      "\u001b[0;31mImportError\u001b[0m: cannot import name 'bar' from 'math' (/opt/conda/lib/python3.10/lib-dynload/math.cpython-310-x86_64-linux-gnu.so)"
     ]
    }
   ],
   "source": [
    "\n",
    "try:\n",
    "    from math import bar # component does not exist\n",
    "\n",
    "except ModuleNotFoundError as e:\n",
    "    print(\"Module not found error:\", e)\n"
   ]
  },
  {
   "cell_type": "code",
   "execution_count": 32,
   "id": "2ebd01b9-f4b1-4295-81e6-7e63e53adc35",
   "metadata": {},
   "outputs": [],
   "source": [
    "#Q6. List down some best practices for exception handling in python."
   ]
  },
  {
   "cell_type": "code",
   "execution_count": 33,
   "id": "d53e0444-2997-4002-8699-c8e5994e6724",
   "metadata": {},
   "outputs": [
    {
     "data": {
      "text/plain": [
       "'Use specific exceptions rather than generic ones. This will help you to identify and handle the exact cause of the error and avoid catching unintended exceptions.\\nUse descriptive messages or logging to provide useful information about the exception and its context.\\nUse exception chaining to preserve the original traceback and avoid losing information when re-raising an exception.\\nUse the finally clause to ensure that some code is always executed regardless of whether an exception occurs or not. This can be useful for cleaning up resources or restoring some state.\\nAvoid using bare except clauses that catch all exceptions, including SystemExit and KeyboardInterrupt. This can make your program unresponsive or difficult to terminate. Instead, use except Exception as a catch-all for regular exceptions.\\nAvoid using try-except-pass blocks that silently ignore the exceptions. This can make your program behave unpredictably or hide serious errors. Instead, use try-except-raise blocks that re-raise the exception after some processing or logging'"
      ]
     },
     "execution_count": 33,
     "metadata": {},
     "output_type": "execute_result"
    }
   ],
   "source": [
    "'''Use specific exceptions rather than generic ones. This will help you to identify and handle the exact cause of the error and avoid catching unintended exceptions.\n",
    "Use descriptive messages or logging to provide useful information about the exception and its context.\n",
    "Use exception chaining to preserve the original traceback and avoid losing information when re-raising an exception.\n",
    "Use the finally clause to ensure that some code is always executed regardless of whether an exception occurs or not. This can be useful for cleaning up resources or restoring some state.\n",
    "Avoid using bare except clauses that catch all exceptions, including SystemExit and KeyboardInterrupt. This can make your program unresponsive or difficult to terminate. Instead, use except Exception as a catch-all for regular exceptions.\n",
    "Avoid using try-except-pass blocks that silently ignore the exceptions. This can make your program behave unpredictably or hide serious errors. Instead, use try-except-raise blocks that re-raise the exception after some processing or logging'''"
   ]
  },
  {
   "cell_type": "code",
   "execution_count": null,
   "id": "d10d0b48-5f20-4a71-960b-998fca181a60",
   "metadata": {},
   "outputs": [],
   "source": []
  }
 ],
 "metadata": {
  "kernelspec": {
   "display_name": "Python 3 (ipykernel)",
   "language": "python",
   "name": "python3"
  },
  "language_info": {
   "codemirror_mode": {
    "name": "ipython",
    "version": 3
   },
   "file_extension": ".py",
   "mimetype": "text/x-python",
   "name": "python",
   "nbconvert_exporter": "python",
   "pygments_lexer": "ipython3",
   "version": "3.10.8"
  }
 },
 "nbformat": 4,
 "nbformat_minor": 5
}
